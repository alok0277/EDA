{
 "cells": [
  {
   "cell_type": "markdown",
   "id": "acde123e",
   "metadata": {},
   "source": [
    "# EDA with help of pyspark"
   ]
  },
  {
   "cell_type": "code",
   "execution_count": 2,
   "id": "befb6540",
   "metadata": {},
   "outputs": [],
   "source": [
    "\n",
    "from pyspark import SparkContext                                    \n",
    "from pyspark.sql import SparkSession, Window, Row                  \n",
    "from pyspark.sql import functions as F                              \n",
    "from pyspark.sql.functions import col, isnan, when, count           \n",
    "from pyspark.sql.functions import *                                 \n",
    "from pyspark.sql.types import *                                     \n",
    "\n",
    "import matplotlib.pyplot as plt                                     \n",
    "%matplotlib inline                                                  \n",
    "import seaborn as sns                                               \n",
    "from handyspark import *                                            \n",
    "\n",
    "from pyspark.ml.feature import VectorAssembler "
   ]
  },
  {
   "cell_type": "code",
   "execution_count": 4,
   "id": "afb88730",
   "metadata": {},
   "outputs": [
    {
     "data": {
      "text/html": [
       "\n",
       "            <div>\n",
       "                <p><b>SparkSession - in-memory</b></p>\n",
       "                \n",
       "        <div>\n",
       "            <p><b>SparkContext</b></p>\n",
       "\n",
       "            <p><a href=\"http://LAPTOP-9V0330NV:4040\">Spark UI</a></p>\n",
       "\n",
       "            <dl>\n",
       "              <dt>Version</dt>\n",
       "                <dd><code>v3.3.2</code></dd>\n",
       "              <dt>Master</dt>\n",
       "                <dd><code>local[*]</code></dd>\n",
       "              <dt>AppName</dt>\n",
       "                <dd><code>restaurant-app</code></dd>\n",
       "            </dl>\n",
       "        </div>\n",
       "        \n",
       "            </div>\n",
       "        "
      ],
      "text/plain": [
       "<pyspark.sql.session.SparkSession at 0x13599567b50>"
      ]
     },
     "execution_count": 4,
     "metadata": {},
     "output_type": "execute_result"
    }
   ],
   "source": [
    "# Building a spark app/session\n",
    "spark = SparkSession.builder.appName(\"restaurantapp\").getOrCreate()\n",
    "\n",
    "# single cluster information\n",
    "spark"
   ]
  },
  {
   "cell_type": "code",
   "execution_count": 8,
   "id": "268cad5a",
   "metadata": {},
   "outputs": [],
   "source": [
    "# loading the dataset \n",
    "df = spark.read.csv('zomato.csv', header=True, inferSchema=\"true\")"
   ]
  },
  {
   "cell_type": "code",
   "execution_count": 11,
   "id": "737c0d63",
   "metadata": {},
   "outputs": [
    {
     "name": "stdout",
     "output_type": "stream",
     "text": [
      "-RECORD 0---------------------------------------------------------------------------------------\n",
      " Restaurant ID        | 6317637                                                                 \n",
      " Restaurant Name      | Le Petit Souffle                                                        \n",
      " Country Code         | 162                                                                     \n",
      " City                 | Makati City                                                             \n",
      " Address              | Third Floor, Century City Mall, Kalayaan Avenue, Poblacion, Makati City \n",
      " Locality             | Century City Mall, Poblacion, Makati City                               \n",
      " Locality Verbose     | Century City Mall, Poblacion, Makati City, Makati City                  \n",
      " Longitude            | 121.027535                                                              \n",
      " Latitude             | 14.565443                                                               \n",
      " Cuisines             | French, Japanese, Desserts                                              \n",
      " Average Cost for two | 1100                                                                    \n",
      " Currency             | Botswana Pula(P)                                                        \n",
      " Has Table booking    | Yes                                                                     \n",
      " Has Online delivery  | No                                                                      \n",
      " Is delivering now    | No                                                                      \n",
      " Switch to order menu | No                                                                      \n",
      " Price range          | 3                                                                       \n",
      " Aggregate rating     | 4.8                                                                     \n",
      " Rating color         | Dark Green                                                              \n",
      " Rating text          | Excellent                                                               \n",
      " Votes                | 314                                                                     \n",
      "-RECORD 1---------------------------------------------------------------------------------------\n",
      " Restaurant ID        | 6304287                                                                 \n",
      " Restaurant Name      | Izakaya Kikufuji                                                        \n",
      " Country Code         | 162                                                                     \n",
      " City                 | Makati City                                                             \n",
      " Address              | Little Tokyo, 2277 Chino Roces Avenue, Legaspi Village, Makati City     \n",
      " Locality             | Little Tokyo, Legaspi Village, Makati City                              \n",
      " Locality Verbose     | Little Tokyo, Legaspi Village, Makati City, Makati City                 \n",
      " Longitude            | 121.014101                                                              \n",
      " Latitude             | 14.553708                                                               \n",
      " Cuisines             | Japanese                                                                \n",
      " Average Cost for two | 1200                                                                    \n",
      " Currency             | Botswana Pula(P)                                                        \n",
      " Has Table booking    | Yes                                                                     \n",
      " Has Online delivery  | No                                                                      \n",
      " Is delivering now    | No                                                                      \n",
      " Switch to order menu | No                                                                      \n",
      " Price range          | 3                                                                       \n",
      " Aggregate rating     | 4.5                                                                     \n",
      " Rating color         | Dark Green                                                              \n",
      " Rating text          | Excellent                                                               \n",
      " Votes                | 591                                                                     \n",
      "-RECORD 2---------------------------------------------------------------------------------------\n",
      " Restaurant ID        | 6300002                                                                 \n",
      " Restaurant Name      | Heat - Edsa Shangri-La                                                  \n",
      " Country Code         | 162                                                                     \n",
      " City                 | Mandaluyong City                                                        \n",
      " Address              | Edsa Shangri-La, 1 Garden Way, Ortigas, Mandaluyong City                \n",
      " Locality             | Edsa Shangri-La, Ortigas, Mandaluyong City                              \n",
      " Locality Verbose     | Edsa Shangri-La, Ortigas, Mandaluyong City, Mandaluyong City            \n",
      " Longitude            | 121.056831                                                              \n",
      " Latitude             | 14.581404                                                               \n",
      " Cuisines             | Seafood, Asian, Filipino, Indian                                        \n",
      " Average Cost for two | 4000                                                                    \n",
      " Currency             | Botswana Pula(P)                                                        \n",
      " Has Table booking    | Yes                                                                     \n",
      " Has Online delivery  | No                                                                      \n",
      " Is delivering now    | No                                                                      \n",
      " Switch to order menu | No                                                                      \n",
      " Price range          | 4                                                                       \n",
      " Aggregate rating     | 4.4                                                                     \n",
      " Rating color         | Green                                                                   \n",
      " Rating text          | Very Good                                                               \n",
      " Votes                | 270                                                                     \n",
      "-RECORD 3---------------------------------------------------------------------------------------\n",
      " Restaurant ID        | 6318506                                                                 \n",
      " Restaurant Name      | Ooma                                                                    \n",
      " Country Code         | 162                                                                     \n",
      " City                 | Mandaluyong City                                                        \n",
      " Address              | Third Floor, Mega Fashion Hall, SM Megamall, Ortigas, Mandaluyong City  \n",
      " Locality             | SM Megamall, Ortigas, Mandaluyong City                                  \n",
      " Locality Verbose     | SM Megamall, Ortigas, Mandaluyong City, Mandaluyong City                \n",
      " Longitude            | 121.056475                                                              \n",
      " Latitude             | 14.585318                                                               \n",
      " Cuisines             | Japanese, Sushi                                                         \n",
      " Average Cost for two | 1500                                                                    \n",
      " Currency             | Botswana Pula(P)                                                        \n",
      " Has Table booking    | No                                                                      \n",
      " Has Online delivery  | No                                                                      \n",
      " Is delivering now    | No                                                                      \n",
      " Switch to order menu | No                                                                      \n",
      " Price range          | 4                                                                       \n",
      " Aggregate rating     | 4.9                                                                     \n",
      " Rating color         | Dark Green                                                              \n",
      " Rating text          | Excellent                                                               \n",
      " Votes                | 365                                                                     \n",
      "-RECORD 4---------------------------------------------------------------------------------------\n",
      " Restaurant ID        | 6314302                                                                 \n",
      " Restaurant Name      | Sambo Kojin                                                             \n",
      " Country Code         | 162                                                                     \n",
      " City                 | Mandaluyong City                                                        \n",
      " Address              | Third Floor, Mega Atrium, SM Megamall, Ortigas, Mandaluyong City        \n",
      " Locality             | SM Megamall, Ortigas, Mandaluyong City                                  \n",
      " Locality Verbose     | SM Megamall, Ortigas, Mandaluyong City, Mandaluyong City                \n",
      " Longitude            | 121.057508                                                              \n",
      " Latitude             | 14.58445                                                                \n",
      " Cuisines             | Japanese, Korean                                                        \n",
      " Average Cost for two | 1500                                                                    \n",
      " Currency             | Botswana Pula(P)                                                        \n",
      " Has Table booking    | Yes                                                                     \n",
      " Has Online delivery  | No                                                                      \n",
      " Is delivering now    | No                                                                      \n",
      " Switch to order menu | No                                                                      \n",
      " Price range          | 4                                                                       \n",
      " Aggregate rating     | 4.8                                                                     \n",
      " Rating color         | Dark Green                                                              \n",
      " Rating text          | Excellent                                                               \n",
      " Votes                | 229                                                                     \n",
      "only showing top 5 rows\n",
      "\n"
     ]
    }
   ],
   "source": [
    "df.show(n=5, truncate=False, vertical=True)"
   ]
  },
  {
   "cell_type": "code",
   "execution_count": 13,
   "id": "efb47e8e",
   "metadata": {},
   "outputs": [
    {
     "name": "stdout",
     "output_type": "stream",
     "text": [
      "-RECORD 0------------------------------------------------------------------------------------\n",
      " summary              | count                                                                \n",
      " Restaurant ID        | 9557                                                                 \n",
      " Restaurant Name      | 9557                                                                 \n",
      " Country Code         | 9557                                                                 \n",
      " City                 | 9557                                                                 \n",
      " Address              | 9557                                                                 \n",
      " Locality             | 9551                                                                 \n",
      " Locality Verbose     | 9551                                                                 \n",
      " Longitude            | 9551                                                                 \n",
      " Latitude             | 9551                                                                 \n",
      " Cuisines             | 9542                                                                 \n",
      " Average Cost for two | 9551                                                                 \n",
      " Currency             | 9551                                                                 \n",
      " Has Table booking    | 9551                                                                 \n",
      " Has Online delivery  | 9551                                                                 \n",
      " Is delivering now    | 9551                                                                 \n",
      " Switch to order menu | 9551                                                                 \n",
      " Price range          | 9551                                                                 \n",
      " Aggregate rating     | 9549                                                                 \n",
      " Rating color         | 9549                                                                 \n",
      " Rating text          | 9547                                                                 \n",
      " Votes                | 9545                                                                 \n",
      "-RECORD 1------------------------------------------------------------------------------------\n",
      " summary              | mean                                                                 \n",
      " Restaurant ID        | 9051128.349178096                                                    \n",
      " Restaurant Name      | 12212.0                                                              \n",
      " Country Code         | 18.365616165846507                                                   \n",
      " City                 | 90.607226                                                            \n",
      " Address              | 14.923160398999999                                                   \n",
      " Locality             | 66.26348823500001                                                    \n",
      " Locality Verbose     | 100.53741610333334                                                   \n",
      " Longitude            | 64.1103846947421                                                     \n",
      " Latitude             | 25.93950432841693                                                    \n",
      " Cuisines             | 550.0                                                                \n",
      " Average Cost for two | 1199.718910424306                                                    \n",
      " Currency             | null                                                                 \n",
      " Has Table booking    | 2.5                                                                  \n",
      " Has Online delivery  | 1.6                                                                  \n",
      " Is delivering now    | 2.0                                                                  \n",
      " Switch to order menu | 2.85                                                                 \n",
      " Price range          | 1.8073096659336056                                                   \n",
      " Aggregate rating     | 2.666621267679415                                                    \n",
      " Rating color         | 78.0                                                                 \n",
      " Rating text          | 3.5                                                                  \n",
      " Votes                | 156.98816134101625                                                   \n",
      "-RECORD 2------------------------------------------------------------------------------------\n",
      " summary              | stddev                                                               \n",
      " Restaurant ID        | 8791521.28210426                                                     \n",
      " Restaurant Name      | null                                                                 \n",
      " Country Code         | 56.75054560094658                                                    \n",
      " City                 | 18.712787590293484                                                   \n",
      " Address              | 19.28008168458414                                                    \n",
      " Locality             | 15.286569967355936                                                   \n",
      " Locality Verbose     | 101.74182830528592                                                   \n",
      " Longitude            | 41.47598267276749                                                    \n",
      " Latitude             | 13.564415107541473                                                   \n",
      " Cuisines             | 70.71067811865476                                                    \n",
      " Average Cost for two | 16126.235548234079                                                   \n",
      " Currency             | null                                                                 \n",
      " Has Table booking    | 2.1213203435596424                                                   \n",
      " Has Online delivery  | 2.2627416997969525                                                   \n",
      " Is delivering now    | 0.0                                                                  \n",
      " Switch to order menu | 0.9848857801796105                                                   \n",
      " Price range          | 0.9506821677798912                                                   \n",
      " Aggregate rating     | 1.5162747153999003                                                   \n",
      " Rating color         | 93.33809511662427                                                    \n",
      " Rating text          | 4.949747468305833                                                    \n",
      " Votes                | 430.2910645319932                                                    \n",
      "-RECORD 3------------------------------------------------------------------------------------\n",
      " summary              | min                                                                  \n",
      " Restaurant ID        |  Station                                                             \n",
      " Restaurant Name      |  Let's Burrrp                                                        \n",
      " Country Code         |  Gurgaon\"                                                            \n",
      " City                 |  New Delhi\"                                                          \n",
      " Address              | 1 & 2, Block A-5 B, DDA Market, Paschim Vihar, New Delhi             \n",
      " Locality             |  ILD Trade Centre Mall, Sohna Road                                   \n",
      " Locality Verbose     |  ILD Trade Centre Mall, Sohna Road, Gurgaon                          \n",
      " Longitude            | -0.076580556                                                         \n",
      " Latitude             | -15.720118                                                           \n",
      " Cuisines             | 500                                                                  \n",
      " Average Cost for two | 0                                                                    \n",
      " Currency             | Botswana Pula(P)                                                     \n",
      " Has Table booking    | 1                                                                    \n",
      " Has Online delivery  | 0                                                                    \n",
      " Is delivering now    | 2                                                                    \n",
      " Switch to order menu | 2                                                                    \n",
      " Price range          | 0                                                                    \n",
      " Aggregate rating     | 0                                                                    \n",
      " Rating color         | 12                                                                   \n",
      " Rating text          | 0                                                                    \n",
      " Votes                | 0                                                                    \n",
      "-RECORD 4------------------------------------------------------------------------------------\n",
      " summary              | max                                                                  \n",
      " Restaurant ID        | Univercity City Road                                                 \n",
      " Restaurant Name      | �ukura��a Sofras۱                                                    \n",
      " Country Code         | Sector 49, Noida                                                     \n",
      " City                 | ��stanbul                                                            \n",
      " Address              | ��mitk�_y Mahallesi, 2432. Cadde (8. Cadde), No 113, �ankaya, Ankara \n",
      " Locality             | ��mitk�_y                                                            \n",
      " Locality Verbose     | ��mitk�_y, Ankara                                                    \n",
      " Longitude            | Italian, Pizza                                                       \n",
      " Latitude             | North Indian, Chinese, Mughlai                                       \n",
      " Cuisines             | World Cuisine, Patisserie, Cafe                                      \n",
      " Average Cost for two | No                                                                   \n",
      " Currency             | Yes                                                                  \n",
      " Has Table booking    | Yes                                                                  \n",
      " Has Online delivery  | Yes                                                                  \n",
      " Is delivering now    | Yes                                                                  \n",
      " Switch to order menu | Not rated                                                            \n",
      " Price range          | Yellow                                                               \n",
      " Aggregate rating     | White                                                                \n",
      " Rating color         | Yellow                                                               \n",
      " Rating text          | Very Good                                                            \n",
      " Votes                | 10934                                                                \n",
      "\n"
     ]
    }
   ],
   "source": [
    "# Description of dataset\n",
    "df.describe().show(n=5, truncate=False, vertical=True)"
   ]
  },
  {
   "cell_type": "code",
   "execution_count": 14,
   "id": "6d6818cf",
   "metadata": {},
   "outputs": [
    {
     "name": "stdout",
     "output_type": "stream",
     "text": [
      "root\n",
      " |-- Restaurant ID: string (nullable = true)\n",
      " |-- Restaurant Name: string (nullable = true)\n",
      " |-- Country Code: string (nullable = true)\n",
      " |-- City: string (nullable = true)\n",
      " |-- Address: string (nullable = true)\n",
      " |-- Locality: string (nullable = true)\n",
      " |-- Locality Verbose: string (nullable = true)\n",
      " |-- Longitude: string (nullable = true)\n",
      " |-- Latitude: string (nullable = true)\n",
      " |-- Cuisines: string (nullable = true)\n",
      " |-- Average Cost for two: string (nullable = true)\n",
      " |-- Currency: string (nullable = true)\n",
      " |-- Has Table booking: string (nullable = true)\n",
      " |-- Has Online delivery: string (nullable = true)\n",
      " |-- Is delivering now: string (nullable = true)\n",
      " |-- Switch to order menu: string (nullable = true)\n",
      " |-- Price range: string (nullable = true)\n",
      " |-- Aggregate rating: string (nullable = true)\n",
      " |-- Rating color: string (nullable = true)\n",
      " |-- Rating text: string (nullable = true)\n",
      " |-- Votes: integer (nullable = true)\n",
      "\n"
     ]
    }
   ],
   "source": [
    "df.printSchema()"
   ]
  },
  {
   "cell_type": "code",
   "execution_count": 16,
   "id": "8ca3e096",
   "metadata": {},
   "outputs": [
    {
     "name": "stdout",
     "output_type": "stream",
     "text": [
      "+--------------------+\n",
      "|     Restaurant Name|\n",
      "+--------------------+\n",
      "|    Le Petit Souffle|\n",
      "|    Izakaya Kikufuji|\n",
      "|Heat - Edsa Shang...|\n",
      "|                Ooma|\n",
      "|         Sambo Kojin|\n",
      "|        Din Tai Fung|\n",
      "|          Buffet 101|\n",
      "|             Vikings|\n",
      "|Spiral - Sofitel ...|\n",
      "|            Locavore|\n",
      "|    Silantro Fil-Mex|\n",
      "|Mad Mark's Creame...|\n",
      "|    Silantro Fil-Mex|\n",
      "|          Guevarra's|\n",
      "|Sodam Korean Rest...|\n",
      "|       Cafe Arabelle|\n",
      "|Nonna's Pasta & P...|\n",
      "|          Balay Dako|\n",
      "|Hobing Korean Des...|\n",
      "|Wildflour Cafe + ...|\n",
      "+--------------------+\n",
      "only showing top 20 rows\n",
      "\n"
     ]
    }
   ],
   "source": [
    "# Displaying the values of a particular column\n",
    "df.select('Restaurant Name').show()"
   ]
  },
  {
   "cell_type": "code",
   "execution_count": 18,
   "id": "33a2ffe5",
   "metadata": {},
   "outputs": [
    {
     "name": "stderr",
     "output_type": "stream",
     "text": [
      "C:\\Users\\arjun\\AppData\\Local\\Programs\\Python\\Python311\\Lib\\site-packages\\pyspark\\sql\\dataframe.py:148: UserWarning: DataFrame.sql_ctx is an internal property, and will be removed in future releases. Use DataFrame.sparkSession instead.\n",
      "  warnings.warn(\n",
      "C:\\Users\\arjun\\AppData\\Local\\Programs\\Python\\Python311\\Lib\\site-packages\\pyspark\\sql\\dataframe.py:127: UserWarning: DataFrame constructor is internal. Do not directly use it.\n",
      "  warnings.warn(\"DataFrame constructor is internal. Do not directly use it.\")\n"
     ]
    },
    {
     "name": "stdout",
     "output_type": "stream",
     "text": [
      "+-------------+--------------------+------------+----------------+--------------------+--------------------+--------------------+-----------+-----------+--------------------+--------------------+----------------+-----------------+-------------------+-----------------+--------------------+-----------+----------------+------------+-----------+-----+\n",
      "|Restaurant ID|     Restaurant Name|Country Code|            City|             Address|            Locality|    Locality Verbose|  Longitude|   Latitude|            Cuisines|Average Cost for two|        Currency|Has Table booking|Has Online delivery|Is delivering now|Switch to order menu|Price range|Aggregate rating|Rating color|Rating text|Votes|\n",
      "+-------------+--------------------+------------+----------------+--------------------+--------------------+--------------------+-----------+-----------+--------------------+--------------------+----------------+-----------------+-------------------+-----------------+--------------------+-----------+----------------+------------+-----------+-----+\n",
      "|      6317637|    Le Petit Souffle|         162|     Makati City|Third Floor, Cent...|Century City Mall...|Century City Mall...| 121.027535|  14.565443|French, Japanese,...|                1100|Botswana Pula(P)|              Yes|                 No|               No|                  No|          3|             4.8|  Dark Green|  Excellent|  314|\n",
      "|      6304287|    Izakaya Kikufuji|         162|     Makati City|Little Tokyo, 227...|Little Tokyo, Leg...|Little Tokyo, Leg...| 121.014101|  14.553708|            Japanese|                1200|Botswana Pula(P)|              Yes|                 No|               No|                  No|          3|             4.5|  Dark Green|  Excellent|  591|\n",
      "|      6300002|Heat - Edsa Shang...|         162|Mandaluyong City|Edsa Shangri-La, ...|Edsa Shangri-La, ...|Edsa Shangri-La, ...| 121.056831|  14.581404|Seafood, Asian, F...|                4000|Botswana Pula(P)|              Yes|                 No|               No|                  No|          4|             4.4|       Green|  Very Good|  270|\n",
      "|      6318506|                Ooma|         162|Mandaluyong City|Third Floor, Mega...|SM Megamall, Orti...|SM Megamall, Orti...| 121.056475|  14.585318|     Japanese, Sushi|                1500|Botswana Pula(P)|               No|                 No|               No|                  No|          4|             4.9|  Dark Green|  Excellent|  365|\n",
      "|      6314302|         Sambo Kojin|         162|Mandaluyong City|Third Floor, Mega...|SM Megamall, Orti...|SM Megamall, Orti...| 121.057508|   14.58445|    Japanese, Korean|                1500|Botswana Pula(P)|              Yes|                 No|               No|                  No|          4|             4.8|  Dark Green|  Excellent|  229|\n",
      "|     18189371|        Din Tai Fung|         162|Mandaluyong City|Ground Floor, Meg...|SM Megamall, Orti...|SM Megamall, Orti...| 121.056314|  14.583764|             Chinese|                1000|Botswana Pula(P)|               No|                 No|               No|                  No|          3|             4.4|       Green|  Very Good|  336|\n",
      "|      6300781|          Buffet 101|         162|      Pasay City|Building K, SM By...|SM by the Bay, Ma...|SM by the Bay, Ma...|120.9796667|14.53133333|     Asian, European|                2000|Botswana Pula(P)|              Yes|                 No|               No|                  No|          4|               4|       Green|  Very Good|  520|\n",
      "|      6301290|             Vikings|         162|      Pasay City|Building B, By Th...|SM by the Bay, Ma...|SM by the Bay, Ma...|120.9793333|      14.54|Seafood, Filipino...|                2000|Botswana Pula(P)|              Yes|                 No|               No|                  No|          4|             4.2|       Green|  Very Good|  677|\n",
      "|      6300010|Spiral - Sofitel ...|         162|      Pasay City|Plaza Level, Sofi...|Sofitel Philippin...|Sofitel Philippin...|  120.98009|   14.55299|European, Asian, ...|                6000|Botswana Pula(P)|              Yes|                 No|               No|                  No|          4|             4.9|  Dark Green|  Excellent|  621|\n",
      "|      6314987|            Locavore|         162|      Pasig City|Brixton Technolog...|           Kapitolyo|Kapitolyo, Pasig ...| 121.056532|  14.572041|            Filipino|                1100|Botswana Pula(P)|              Yes|                 No|               No|                  No|          3|             4.8|  Dark Green|  Excellent|  532|\n",
      "|      6309903|    Silantro Fil-Mex|         162|      Pasig City|75 East Capitol D...|           Kapitolyo|Kapitolyo, Pasig ...| 121.057916|  14.567689|   Filipino, Mexican|                 800|Botswana Pula(P)|               No|                 No|               No|                  No|          3|             4.9|  Dark Green|  Excellent| 1070|\n",
      "|      6309455|Mad Mark's Creame...|         162|      Pasig City|23 East Capitol D...|           Kapitolyo|Kapitolyo, Pasig ...|  121.06082|  14.570849|American, Ice Cre...|                 900|Botswana Pula(P)|              Yes|                 No|               No|                  No|          3|             4.2|       Green|  Very Good|  488|\n",
      "|      6318433|    Silantro Fil-Mex|         162|     Quezon City|Second Floor, UP ...|UP Town Center, D...|UP Town Center, D...| 121.075419|  14.649503|   Filipino, Mexican|                 800|Botswana Pula(P)|               No|                 No|               No|                  No|          3|             4.8|  Dark Green|  Excellent|  294|\n",
      "|      6310470|          Guevarra's|         162|   San Juan City|387 P. Guevarra C...|      Addition Hills|Addition Hills, S...|121.0335917|   14.59345|            Filipino|                1000|Botswana Pula(P)|              Yes|                 No|               No|                  No|          3|             4.2|       Green|  Very Good|  458|\n",
      "|      6314605|Sodam Korean Rest...|         162|   San Juan City|17 J. Abad Santos...|       Little Baguio|Little Baguio, Sa...|  121.03811|   14.59889|              Korean|                 700|Botswana Pula(P)|               No|                 No|               No|                  No|          3|             4.3|       Green|  Very Good|  223|\n",
      "|     18185059|       Cafe Arabelle|         162|      Santa Rosa|Ayala Mall, Solen...|Nuvali, Don Jose,...|Nuvali, Don Jose,...|  121.05704|  14.237082|Cafe, American, I...|                 800|Botswana Pula(P)|               No|                 No|               No|                  No|          3|             3.6|      Yellow|       Good|   29|\n",
      "|     18182702|Nonna's Pasta & P...|         162|      Santa Rosa|Ground Floor, Bui...|Solenad 3, Don Jo...|Solenad 3, Don Jo...|121.0565874|14.23767897|      Italian, Pizza|                 850|Botswana Pula(P)|               No|                 No|               No|                  No|          3|               4|       Green|  Very Good|   72|\n",
      "|      6318213|          Balay Dako|         162|   Tagaytay City|Aguinaldo Highway...|       Tagaytay City|Tagaytay City, Ta...| 120.951589|  14.101834|            Filipino|                1200|Botswana Pula(P)|              Yes|                 No|               No|                  No|          3|             4.5|  Dark Green|  Excellent|  211|\n",
      "|     18255654|Hobing Korean Des...|         162|     Taguig City|Third Floor, BGC ...|BGC Stopover Pavi...|BGC Stopover Pavi...| 121.045878|   14.55436|Cafe, Korean, Des...|                 600|Botswana Pula(P)|               No|                 No|               No|                  No|          2|             4.5|  Dark Green|  Excellent|  118|\n",
      "|      6308205|Wildflour Cafe + ...|         162|     Taguig City|Ground Floor, Net...|Bonifacio Global ...|Bonifacio Global ...|  121.04622|  14.549337|Cafe, Bakery, Ame...|                1500|Botswana Pula(P)|              Yes|                 No|               No|                  No|          4|             4.4|       Green|  Very Good|  392|\n",
      "+-------------+--------------------+------------+----------------+--------------------+--------------------+--------------------+-----------+-----------+--------------------+--------------------+----------------+-----------------+-------------------+-----------------+--------------------+-----------+----------------+------------+-----------+-----+\n",
      "only showing top 20 rows\n",
      "\n"
     ]
    }
   ],
   "source": [
    "# Converting to handyspark dataframe\n",
    "hdf = df.toHandy()\n",
    "hdf.show()"
   ]
  },
  {
   "cell_type": "code",
   "execution_count": 23,
   "id": "aa97293b",
   "metadata": {},
   "outputs": [
    {
     "name": "stderr",
     "output_type": "stream",
     "text": [
      "C:\\Users\\arjun\\AppData\\Local\\Programs\\Python\\Python311\\Lib\\site-packages\\pyspark\\sql\\dataframe.py:148: UserWarning: DataFrame.sql_ctx is an internal property, and will be removed in future releases. Use DataFrame.sparkSession instead.\n",
      "  warnings.warn(\n",
      "C:\\Users\\arjun\\AppData\\Local\\Programs\\Python\\Python311\\Lib\\site-packages\\pyspark\\sql\\dataframe.py:127: UserWarning: DataFrame constructor is internal. Do not directly use it.\n",
      "  warnings.warn(\"DataFrame constructor is internal. Do not directly use it.\")\n"
     ]
    },
    {
     "data": {
      "image/png": "[encoded data removed]",
      "text/plain": [
       "<Figure size 1000x700 with 1 Axes>"
      ]
     },
     "metadata": {},
     "output_type": "display_data"
    }
   ],
   "source": [
    "fig, ax = plt.subplots(figsize=(10, 7))\n",
    "hdf.cols['Aggregate rating'].hist(ax=ax)\n",
    "plt.show()"
   ]
  },
  {
   "cell_type": "code",
   "execution_count": null,
   "id": "0b709ebe",
   "metadata": {},
   "outputs": [],
   "source": []
  }
 ],
 "metadata": {
  "kernelspec": {
   "display_name": "Python 3 (ipykernel)",
   "language": "python",
   "name": "python3"
  },
  "language_info": {
   "codemirror_mode": {
    "name": "ipython",
    "version": 3
   },
   "file_extension": ".py",
   "mimetype": "text/x-python",
   "name": "python",
   "nbconvert_exporter": "python",
   "pygments_lexer": "ipython3",
   "version": "3.11.0"
  }
 },
 "nbformat": 4,
 "nbformat_minor": 5
}
